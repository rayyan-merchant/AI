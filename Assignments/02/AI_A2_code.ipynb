{
  "nbformat": 4,
  "nbformat_minor": 0,
  "metadata": {
    "colab": {
      "provenance": []
    },
    "kernelspec": {
      "name": "python3",
      "display_name": "Python 3"
    },
    "language_info": {
      "name": "python"
    }
  },
  "cells": [
    {
      "cell_type": "markdown",
      "source": [
        "### Q1: Hill Climbing"
      ],
      "metadata": {
        "id": "zinsVHivxYs-"
      }
    },
    {
      "cell_type": "code",
      "execution_count": null,
      "metadata": {
        "colab": {
          "base_uri": "https://localhost:8080/"
        },
        "id": "oad0J91pvcL6",
        "outputId": "59e0f761-c3d2-46c2-fa3a-6fdd4ec58d0c"
      },
      "outputs": [
        {
          "output_type": "stream",
          "name": "stdout",
          "text": [
            "Peak found at index: 7\n"
          ]
        }
      ],
      "source": [
        "def query(x):\n",
        "    return -1 * (x - 7) ** 2 + 49\n",
        "\n",
        "def find_peak(N: int) -> int:\n",
        "    low, high = 0, N\n",
        "    while low < high:\n",
        "        mid = (low + high) // 2\n",
        "        if query(mid) < query(mid + 1):\n",
        "            low = mid + 1\n",
        "        else:\n",
        "            high = mid\n",
        "    return low\n",
        "\n",
        "N = 160\n",
        "print(\"Peak found at index:\", find_peak(N))\n"
      ]
    },
    {
      "cell_type": "markdown",
      "source": [
        "### Q2: Genetic Algorithm"
      ],
      "metadata": {
        "id": "m9fslPeuxsLV"
      }
    },
    {
      "cell_type": "code",
      "source": [
        "import random\n",
        "\n",
        "task_times = [5, 8, 4, 7, 6, 3, 9]\n",
        "facility_capacities = [24, 30, 28]\n",
        "cost_matrix = [\n",
        "    [10, 12, 9],\n",
        "    [15, 14, 16],\n",
        "    [8, 9, 7],\n",
        "    [12, 10, 13],\n",
        "    [14, 13, 12],\n",
        "    [9, 8, 10],\n",
        "    [11, 12, 13]\n",
        "]\n",
        "\n",
        "num_tasks = len(task_times)\n",
        "num_facilities = len(facility_capacities)\n",
        "\n",
        "population_size = 6\n",
        "crossover_rate = 0.8\n",
        "mutation_rate = 0.2\n",
        "generations = 2  # 2 iterations performed\n",
        "penalty_factor = 1000\n",
        "\n",
        "\n",
        "def calc_fitness(assignment):\n",
        "    total_cost = 0\n",
        "    facility_loads = [0] * num_facilities\n",
        "    penalty = 0\n",
        "    for task, facility in enumerate(assignment):\n",
        "        facility_idx = facility - 1\n",
        "        total_cost += task_times[task] * cost_matrix[task][facility_idx]\n",
        "        facility_loads[facility_idx] += task_times[task]\n",
        "    for load, capacity in zip(facility_loads, facility_capacities):\n",
        "        if load > capacity:\n",
        "            penalty += penalty_factor * (load - capacity)\n",
        "    return total_cost + penalty, facility_loads\n",
        "\n",
        "\n",
        "def verify_assignment(assignment):\n",
        "    fitness, loads = calc_fitness(assignment)\n",
        "    is_valid = all(load <= cap for load, cap in zip(loads, facility_capacities))\n",
        "    print(f\"\\nAssignment: {assignment}\")\n",
        "    print(f\"Total Cost: {fitness if penalty_factor == 0 else fitness % penalty_factor}\")\n",
        "    print(f\"Facility Loads: {loads}\")\n",
        "    print(f\"Capacities: {facility_capacities}\")\n",
        "    print(f\"Constraints Satisfied: {is_valid}\")\n",
        "    return fitness, is_valid\n",
        "\n",
        "\n",
        "def create_population():\n",
        "    return [\n",
        "        [2, 3, 1, 2, 3, 1, 2],\n",
        "        [1, 2, 3, 1, 2, 3, 2],\n",
        "        [3, 1, 2, 3, 1, 2, 1],\n",
        "        [2, 1, 3, 2, 1, 3, 2],\n",
        "        [1, 3, 2, 1, 3, 2, 1],\n",
        "        [3, 2, 1, 3, 2, 1, 3]\n",
        "    ]\n",
        "\n",
        "\n",
        "def select_parents(population, fitnesses):\n",
        "    total_fitness = sum(1 / f for f in fitnesses)\n",
        "    probabilities = [(1 / f) / total_fitness for f in fitnesses]\n",
        "    return random.choices(population, weights=probabilities, k=2)\n",
        "\n",
        "\n",
        "def crossover(parent1, parent2):\n",
        "    if random.random() < crossover_rate:\n",
        "        point = random.randint(1, num_tasks - 1)\n",
        "        child1 = parent1[:point] + parent2[point:]\n",
        "        child2 = parent2[:point] + parent1[point:]\n",
        "        return child1, child2\n",
        "    return parent1[:], parent2[:]\n",
        "\n",
        "\n",
        "def mutate(assignment):\n",
        "    if random.random() < mutation_rate:\n",
        "        idx1, idx2 = random.sample(range(num_tasks), 2)\n",
        "        assignment[idx1], assignment[idx2] = assignment[idx2], assignment[idx1]\n",
        "    return assignment\n",
        "\n",
        "\n",
        "def genetic_algorithm():\n",
        "    population = create_population()\n",
        "    best_solution = None\n",
        "    best_fitness = float('inf')\n",
        "\n",
        "    print(\"Initial Population:\")\n",
        "    for i, chrom in enumerate(population):\n",
        "        fit, loads = calc_fitness(chrom)\n",
        "        print(f\"Chromosome {i + 1}: {chrom}, Cost: {fit}, Loads: {loads}\")\n",
        "\n",
        "    for gen in range(generations):\n",
        "        fitnesses = []\n",
        "        for individual in population:\n",
        "            fit, _ = calc_fitness(individual)\n",
        "            fitnesses.append(fit)\n",
        "            if fit < best_fitness:\n",
        "                best_fitness = fit\n",
        "                best_solution = individual[:]\n",
        "\n",
        "        print(f\"\\nGeneration {gen + 1}:\")\n",
        "        print(f\"Population: {population}\")\n",
        "        print(f\"Fitness Values: {fitnesses}\")\n",
        "        print(f\"Best Cost So Far: {best_fitness}\")\n",
        "\n",
        "        new_population = [best_solution[:]]  # Elitism\n",
        "        while len(new_population) < population_size:\n",
        "            parent1, parent2 = select_parents(population, fitnesses)\n",
        "            child1, child2 = crossover(parent1, parent2)\n",
        "            child1 = mutate(child1)\n",
        "            child2 = mutate(child2)\n",
        "            new_population.extend([child1, child2])\n",
        "\n",
        "        population = new_population[:population_size]\n",
        "\n",
        "    return best_solution, best_fitness\n",
        "\n",
        "\n",
        "best_assignment, best_cost = genetic_algorithm()\n",
        "print(\"\\nGenetic Algorithm Results After 2 Generations:\")\n",
        "verify_assignment(best_assignment)"
      ],
      "metadata": {
        "id": "vxFrc_5KxV-s",
        "colab": {
          "base_uri": "https://localhost:8080/"
        },
        "outputId": "97ee48b6-6810-4483-b186-27e12265a3d2"
      },
      "execution_count": 2,
      "outputs": [
        {
          "output_type": "stream",
          "name": "stdout",
          "text": [
            "Initial Population:\n",
            "Chromosome 1: [2, 3, 1, 2, 3, 1, 2], Cost: 497, Loads: [7, 21, 14]\n",
            "Chromosome 2: [1, 2, 3, 1, 2, 3, 2], Cost: 490, Loads: [12, 23, 7]\n",
            "Chromosome 3: [3, 1, 2, 3, 1, 2, 1], Cost: 499, Loads: [23, 7, 12]\n",
            "Chromosome 4: [2, 1, 3, 2, 1, 3, 2], Cost: 500, Loads: [14, 21, 7]\n",
            "Chromosome 5: [1, 3, 2, 1, 3, 2, 1], Cost: 493, Loads: [21, 7, 14]\n",
            "Chromosome 6: [3, 2, 1, 3, 2, 1, 3], Cost: 502, Loads: [7, 14, 21]\n",
            "\n",
            "Generation 1:\n",
            "Population: [[2, 3, 1, 2, 3, 1, 2], [1, 2, 3, 1, 2, 3, 2], [3, 1, 2, 3, 1, 2, 1], [2, 1, 3, 2, 1, 3, 2], [1, 3, 2, 1, 3, 2, 1], [3, 2, 1, 3, 2, 1, 3]]\n",
            "Fitness Values: [497, 490, 499, 500, 493, 502]\n",
            "Best Cost So Far: 490\n",
            "\n",
            "Generation 2:\n",
            "Population: [[1, 2, 3, 1, 2, 3, 2], [2, 1, 1, 2, 3, 1, 2], [2, 3, 3, 2, 1, 3, 2], [3, 1, 1, 3, 2, 1, 3], [3, 2, 2, 3, 1, 2, 1], [2, 1, 2, 3, 1, 2, 1]]\n",
            "Fitness Values: [490, 489, 508, 510, 491, 514]\n",
            "Best Cost So Far: 489\n",
            "\n",
            "Genetic Algorithm Results After 2 Generations:\n",
            "\n",
            "Assignment: [2, 1, 1, 2, 3, 1, 2]\n",
            "Total Cost: 489\n",
            "Facility Loads: [15, 21, 6]\n",
            "Capacities: [24, 30, 28]\n",
            "Constraints Satisfied: True\n"
          ]
        },
        {
          "output_type": "execute_result",
          "data": {
            "text/plain": [
              "(489, True)"
            ]
          },
          "metadata": {},
          "execution_count": 2
        }
      ]
    },
    {
      "cell_type": "markdown",
      "source": [
        "### Q3: CSP\n",
        "\n"
      ],
      "metadata": {
        "id": "pMuAMbKIfwpt"
      }
    },
    {
      "cell_type": "markdown",
      "source": [
        "MY CODE"
      ],
      "metadata": {
        "id": "BdRbKtbChEJN"
      }
    },
    {
      "cell_type": "code",
      "source": [
        "import time\n",
        "import copy\n",
        "\n",
        "def cross(A, B):\n",
        "    return [a + b for a in A for b in B]\n",
        "\n",
        "rows = 'ABCDEFGHI'\n",
        "cols = '123456789'\n",
        "cells = cross(rows, cols)\n",
        "\n",
        "row_units = [cross(r, cols) for r in rows]\n",
        "col_units = [cross(rows, c) for c in cols]\n",
        "box_units = [cross(rs, cs) for rs in ('ABC','DEF','GHI') for cs in ('123','456','789')]\n",
        "unitlist = row_units + col_units + box_units\n",
        "units = {s: [u for u in unitlist if s in u] for s in cells}\n",
        "peers = {s: set(sum(units[s], [])) - {s} for s in cells}\n",
        "\n",
        "def parse_grid(grid):\n",
        "    values = {s: '123456789' for s in cells}\n",
        "    for s, d in zip(cells, grid):\n",
        "        if d in '123456789' and not assign(values, s, d):\n",
        "            return False\n",
        "    return values\n",
        "\n",
        "def assign(values, s, d):\n",
        "    other_values = values[s].replace(d, '')\n",
        "    if all(eliminate(values, s, d2) for d2 in other_values):\n",
        "        return values\n",
        "    return False\n",
        "\n",
        "def eliminate(values, s, d):\n",
        "    if d not in values[s]:\n",
        "        return values\n",
        "    values[s] = values[s].replace(d, '')\n",
        "    if len(values[s]) == 0:\n",
        "        return False\n",
        "    elif len(values[s]) == 1:\n",
        "        d2 = values[s]\n",
        "        if not all(eliminate(values, s2, d2) for s2 in peers[s]):\n",
        "            return False\n",
        "    for u in units[s]:\n",
        "        dplaces = [s2 for s2 in u if d in values[s2]]\n",
        "        if len(dplaces) == 0:\n",
        "            return False\n",
        "        elif len(dplaces) == 1:\n",
        "            if not assign(values, dplaces[0], d):\n",
        "                return False\n",
        "    return values\n",
        "\n",
        "def AC3(values):\n",
        "    queue = [(xi, xj) for xi in cells for xj in peers[xi]]\n",
        "    while queue:\n",
        "        xi, xj = queue.pop()\n",
        "        if revise(values, xi, xj):\n",
        "            if len(values[xi]) == 0:\n",
        "                return False\n",
        "            for xk in peers[xi] - {xj}:\n",
        "                queue.append((xk, xi))\n",
        "    return True\n",
        "\n",
        "def revise(values, xi, xj):\n",
        "    revised = False\n",
        "    if len(values[xj]) == 1:\n",
        "        val = values[xj]\n",
        "        if val in values[xi]:\n",
        "            values[xi] = values[xi].replace(val, '')\n",
        "            revised = True\n",
        "    return revised\n",
        "\n",
        "def is_solved(values):\n",
        "    return all(len(values[s]) == 1 for s in cells)\n",
        "\n",
        "def select_unassigned_variable(values):\n",
        "    unassigned = [(len(values[s]), s) for s in cells if len(values[s]) > 1]\n",
        "    return min(unassigned)[1] if unassigned else None\n",
        "\n",
        "def backtrack(values):\n",
        "    if values is False:\n",
        "        return False\n",
        "    if is_solved(values):\n",
        "        return values\n",
        "    s = select_unassigned_variable(values)\n",
        "    for d in values[s]:\n",
        "        new_values = copy.deepcopy(values)\n",
        "        result = assign(new_values, s, d)\n",
        "        if result and AC3(new_values):\n",
        "            attempt = backtrack(new_values)\n",
        "            if attempt:\n",
        "                return attempt\n",
        "    return False\n",
        "\n",
        "def solve(grid):\n",
        "    values = parse_grid(grid)\n",
        "    if not values or not AC3(values):\n",
        "        return False\n",
        "    result = backtrack(values)\n",
        "    if result:\n",
        "        return ''.join(result[s] for s in cells)\n",
        "    return False\n",
        "\n",
        "def main():\n",
        "    with open(\"input.txt\", \"r\") as f:\n",
        "        puzzles = f.read().strip().splitlines()\n",
        "\n",
        "    with open(\"output.txt\", \"w\") as f:\n",
        "        for idx, puzzle in enumerate(puzzles):\n",
        "            start_time = time.time()\n",
        "            solution = solve(puzzle)\n",
        "            duration = time.time() - start_time\n",
        "            print(f\"\\nPuzzle #{idx + 1}\")\n",
        "            print(f\"Initial : {puzzle}\")\n",
        "            print(f\"Solved  : {solution}\")\n",
        "            print(f\"Time    : {duration} seconds\\n\")\n",
        "            f.write(solution + \"\\n\")\n",
        "\n",
        "if __name__ == \"__main__\":\n",
        "    main()\n"
      ],
      "metadata": {
        "colab": {
          "base_uri": "https://localhost:8080/"
        },
        "id": "rg6GkGerfy7I",
        "outputId": "87df99bc-7220-4ac6-dd8a-d479afcaa0d7"
      },
      "execution_count": 11,
      "outputs": [
        {
          "output_type": "stream",
          "name": "stdout",
          "text": [
            "\n",
            "Puzzle #1\n",
            "Initial : 003020600900305001001806400008102900700000008006708200002609500800203009005010300\n",
            "Solved  : 483921657967345821251876493548132976729564138136798245372689514814253769695417382\n",
            "Time    : 0.006872892379760742 seconds\n",
            "\n"
          ]
        }
      ]
    },
    {
      "cell_type": "markdown",
      "source": [
        "GPT CODE"
      ],
      "metadata": {
        "id": "dqcyz83uhFcC"
      }
    },
    {
      "cell_type": "code",
      "source": [
        "import time\n",
        "from typing import List, Dict\n",
        "\n",
        "time_taken = time.time()\n",
        "def cross(A: str, B: str) -> List[str]:\n",
        "    return [a + b for a in A for b in B]\n",
        "\n",
        "rows = 'ABCDEFGHI'\n",
        "cols = '123456789'\n",
        "cells = cross(rows, cols)\n",
        "\n",
        "row_units = [cross(r, cols) for r in rows]\n",
        "col_units = [cross(rows, c) for c in cols]\n",
        "box_units = [cross(rs, cs) for rs in ('ABC','DEF','GHI') for cs in ('123','456','789')]\n",
        "unitlist = row_units + col_units + box_units\n",
        "units = {s: [u for u in unitlist if s in u] for s in cells}\n",
        "peers = {s: set(sum(units[s], [])) - {s} for s in cells}\n",
        "\n",
        "def parse_grid(grid: str) -> Dict[str, str] | bool:\n",
        "    values = {s: '123456789' for s in cells}\n",
        "    for s, d in zip(cells, grid):\n",
        "        if d in '123456789' and not assign(values, s, d):\n",
        "            return False\n",
        "    return values\n",
        "\n",
        "def assign(values: Dict[str, str], s: str, d: str) -> Dict[str, str] | bool:\n",
        "    other_values = values[s].replace(d, '')\n",
        "    if all(eliminate(values, s, d2) for d2 in other_values):\n",
        "        return values\n",
        "    return False\n",
        "\n",
        "def eliminate(values: Dict[str, str], s: str, d: str) -> Dict[str, str] | bool:\n",
        "    if d not in values[s]:\n",
        "        return values\n",
        "    values[s] = values[s].replace(d, '')\n",
        "    if len(values[s]) == 0:\n",
        "        return False\n",
        "    elif len(values[s]) == 1:\n",
        "        d2 = values[s]\n",
        "        if not all(eliminate(values, s2, d2) for s2 in peers[s]):\n",
        "            return False\n",
        "    for u in units[s]:\n",
        "        dplaces = [s2 for s2 in u if d in values[s2]]\n",
        "        if len(dplaces) == 0:\n",
        "            return False\n",
        "        elif len(dplaces) == 1:\n",
        "            if not assign(values, dplaces[0], d):\n",
        "                return False\n",
        "    return values\n",
        "\n",
        "def AC3(values: Dict[str, str]) -> bool:\n",
        "    queue = [(xi, xj) for xi in cells for xj in peers[xi]]\n",
        "    while queue:\n",
        "        xi, xj = queue.pop()\n",
        "        if revise(values, xi, xj):\n",
        "            if len(values[xi]) == 0:\n",
        "                return False\n",
        "            for xk in peers[xi] - {xj}:\n",
        "                queue.append((xk, xi))\n",
        "    return True\n",
        "\n",
        "def revise(values: Dict[str, str], xi: str, xj: str) -> bool:\n",
        "    revised = False\n",
        "    for x in values[xi]:\n",
        "        if all(x == y for y in values[xj]):\n",
        "            values[xi] = values[xi].replace(x, '')\n",
        "            revised = True\n",
        "    return revised\n",
        "\n",
        "def is_solved(values: Dict[str, str]) -> bool:\n",
        "    return all(len(values[s]) == 1 for s in cells)\n",
        "\n",
        "def select_unassigned_variable(values: Dict[str, str]) -> str:\n",
        "    unassigned = [(len(values[s]), s) for s in cells if len(values[s]) > 1]\n",
        "    return min(unassigned)[1] if unassigned else None\n",
        "\n",
        "def backtrack(values: Dict[str, str]) -> Dict[str, str] | bool:\n",
        "    if values is False:\n",
        "        return False\n",
        "    if is_solved(values):\n",
        "        return values\n",
        "    s = select_unassigned_variable(values)\n",
        "    for d in values[s]:\n",
        "        new_values = values.copy()\n",
        "        result = assign(new_values, s, d)\n",
        "        if result:\n",
        "            ac3_result = AC3(result.copy())\n",
        "            if ac3_result:\n",
        "                attempt = backtrack(result)\n",
        "                if attempt:\n",
        "                    return attempt\n",
        "    return False\n",
        "\n",
        "def solve(grid: str) -> str:\n",
        "    values = parse_grid(grid)\n",
        "    if not values:\n",
        "        return \"\"\n",
        "    AC3(values)\n",
        "    result = backtrack(values)\n",
        "    return ''.join(result[s] for s in cells) if result else \"\"\n",
        "\n",
        "print(f\"Time Taken: {time.time() - time_taken}\")"
      ],
      "metadata": {
        "colab": {
          "base_uri": "https://localhost:8080/"
        },
        "id": "sl1i6LPghGAa",
        "outputId": "bff091e8-c754-4f79-e466-0775bb48a20c"
      },
      "execution_count": 6,
      "outputs": [
        {
          "output_type": "stream",
          "name": "stdout",
          "text": [
            "Time Taken: 0.002921581268310547\n"
          ]
        }
      ]
    },
    {
      "cell_type": "markdown",
      "source": [
        "GOOGLE ORTOOLS CODE"
      ],
      "metadata": {
        "id": "7M_05bFchGwI"
      }
    },
    {
      "cell_type": "code",
      "source": [
        "pip install ortools"
      ],
      "metadata": {
        "colab": {
          "base_uri": "https://localhost:8080/"
        },
        "collapsed": true,
        "id": "sx8H1qck1hsb",
        "outputId": "d788f370-06cb-405c-b7ad-d8dfb0f9b4ba"
      },
      "execution_count": 4,
      "outputs": [
        {
          "output_type": "stream",
          "name": "stdout",
          "text": [
            "Collecting ortools\n",
            "  Downloading ortools-9.12.4544-cp311-cp311-manylinux_2_27_x86_64.manylinux_2_28_x86_64.whl.metadata (3.3 kB)\n",
            "Collecting absl-py>=2.0.0 (from ortools)\n",
            "  Downloading absl_py-2.2.2-py3-none-any.whl.metadata (2.6 kB)\n",
            "Requirement already satisfied: numpy>=1.13.3 in /usr/local/lib/python3.11/dist-packages (from ortools) (2.0.2)\n",
            "Requirement already satisfied: pandas>=2.0.0 in /usr/local/lib/python3.11/dist-packages (from ortools) (2.2.2)\n",
            "Requirement already satisfied: protobuf<5.30,>=5.29.3 in /usr/local/lib/python3.11/dist-packages (from ortools) (5.29.4)\n",
            "Requirement already satisfied: immutabledict>=3.0.0 in /usr/local/lib/python3.11/dist-packages (from ortools) (4.2.1)\n",
            "Requirement already satisfied: python-dateutil>=2.8.2 in /usr/local/lib/python3.11/dist-packages (from pandas>=2.0.0->ortools) (2.8.2)\n",
            "Requirement already satisfied: pytz>=2020.1 in /usr/local/lib/python3.11/dist-packages (from pandas>=2.0.0->ortools) (2025.2)\n",
            "Requirement already satisfied: tzdata>=2022.7 in /usr/local/lib/python3.11/dist-packages (from pandas>=2.0.0->ortools) (2025.2)\n",
            "Requirement already satisfied: six>=1.5 in /usr/local/lib/python3.11/dist-packages (from python-dateutil>=2.8.2->pandas>=2.0.0->ortools) (1.17.0)\n",
            "Downloading ortools-9.12.4544-cp311-cp311-manylinux_2_27_x86_64.manylinux_2_28_x86_64.whl (24.9 MB)\n",
            "\u001b[2K   \u001b[90m━━━━━━━━━━━━━━━━━━━━━━━━━━━━━━━━━━━━━━━━\u001b[0m \u001b[32m24.9/24.9 MB\u001b[0m \u001b[31m38.1 MB/s\u001b[0m eta \u001b[36m0:00:00\u001b[0m\n",
            "\u001b[?25hDownloading absl_py-2.2.2-py3-none-any.whl (135 kB)\n",
            "\u001b[2K   \u001b[90m━━━━━━━━━━━━━━━━━━━━━━━━━━━━━━━━━━━━━━━━\u001b[0m \u001b[32m135.6/135.6 kB\u001b[0m \u001b[31m8.5 MB/s\u001b[0m eta \u001b[36m0:00:00\u001b[0m\n",
            "\u001b[?25hInstalling collected packages: absl-py, ortools\n",
            "  Attempting uninstall: absl-py\n",
            "    Found existing installation: absl-py 1.4.0\n",
            "    Uninstalling absl-py-1.4.0:\n",
            "      Successfully uninstalled absl-py-1.4.0\n",
            "Successfully installed absl-py-2.2.2 ortools-9.12.4544\n"
          ]
        }
      ]
    },
    {
      "cell_type": "code",
      "source": [
        "from ortools.sat.python import cp_model\n",
        "import time\n",
        "\n",
        "time_taken = time.time()\n",
        "\n",
        "def solve_sudoku_or_tools(grid_string):\n",
        "    model = cp_model.CpModel()\n",
        "    cell = {}\n",
        "    for i in range(9):\n",
        "        for j in range(9):\n",
        "            cell[(i, j)] = model.NewIntVar(1, 9, f'cell_{i}_{j}')\n",
        "\n",
        "    for i in range(9):\n",
        "        model.AddAllDifferent([cell[(i, j)] for j in range(9)])  # Rows\n",
        "        model.AddAllDifferent([cell[(j, i)] for j in range(9)])  # Columns\n",
        "\n",
        "    for block_row in range(3):\n",
        "        for block_col in range(3):\n",
        "            block = []\n",
        "            for i in range(3):\n",
        "                for j in range(3):\n",
        "                    block.append(cell[(block_row * 3 + i, block_col * 3 + j)])\n",
        "            model.AddAllDifferent(block)  # Blocks\n",
        "\n",
        "    for i in range(9):\n",
        "        for j in range(9):\n",
        "            char = grid_string[i * 9 + j]\n",
        "            if char in '123456789':\n",
        "                model.Add(cell[(i, j)] == int(char))\n",
        "\n",
        "    solver = cp_model.CpSolver()\n",
        "    start = time.time()\n",
        "    status = solver.Solve(model)\n",
        "    end = time.time()\n",
        "\n",
        "    if status == cp_model.FEASIBLE or status == cp_model.OPTIMAL:\n",
        "        solution = ''\n",
        "        for i in range(9):\n",
        "            for j in range(9):\n",
        "                solution += str(solver.Value(cell[(i, j)]))\n",
        "        return solution, end - start\n",
        "    else:\n",
        "        return None, end - start\n",
        "print(f\"Time Taken: {time.time() - time_taken}\")"
      ],
      "metadata": {
        "colab": {
          "base_uri": "https://localhost:8080/"
        },
        "id": "TzoIxP66hHW3",
        "outputId": "e5ec1054-d2e7-4d11-b305-2f9152d1daa8"
      },
      "execution_count": 5,
      "outputs": [
        {
          "output_type": "stream",
          "name": "stdout",
          "text": [
            "Time Taken: 0.0006470680236816406\n"
          ]
        }
      ]
    },
    {
      "cell_type": "markdown",
      "source": [
        "**Time comparisons**\n",
        "\n",
        "**MY CODE:** 0.006872892379760742\n",
        "\n",
        "**GPT CODE:** 0.002921581268310547\n",
        "\n",
        "**GOOGLE ORTOOLS CODE:** 0.0006470680236816406"
      ],
      "metadata": {
        "id": "Rteni-824JY2"
      }
    }
  ]
}