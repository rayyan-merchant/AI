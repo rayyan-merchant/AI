{
 "cells": [
  {
   "cell_type": "markdown",
   "metadata": {},
   "source": [
    "🔹 2. Mutation Implementation\n",
    "\n",
    "What is Mutation?\n",
    "Mutation randomly alters a gene in an individual to introduce variation.\n",
    "It prevents premature convergence (getting stuck in local optima).\n",
    "\n",
    "✅ Step-by-Step Mutation Implementation\n",
    "Select a mutation method (e.g., Bit Flip, Swap Mutation, Scramble Mutation).\n",
    "Choose a random gene to mutate.\n",
    "Modify the gene to create diversity."
   ]
  },
  {
   "cell_type": "code",
   "execution_count": null,
   "metadata": {},
   "outputs": [],
   "source": [
    "#selection: \n",
    "def select_parents(population, fitness_scores):\n",
    "    sorted_population = [x for _, x in sorted(zip(fitness_scores, population))]\n",
    "    return sorted_population[:len(population)//2]\n"
   ]
  },
  {
   "cell_type": "code",
   "execution_count": null,
   "metadata": {},
   "outputs": [],
   "source": [
    "def mutate(individual):\n",
    "    idx = random.randint(0, len(individual) - 1)\n",
    "    individual[idx] = 1 - individual[idx]  # Flip bit (binary GA)\n",
    "    return individual\n"
   ]
  },
  {
   "cell_type": "code",
   "execution_count": null,
   "metadata": {},
   "outputs": [],
   "source": [
    "#  Example 1: Bit Flip Mutation (For Binary Chromosomes)\n",
    "# Used in: OneMax, Feature Selection, Binary GA problems\n",
    "def bit_flip_mutation(individual, mutation_rate=0.1):\n",
    "    for i in range(len(individual)):\n",
    "        if random.random() < mutation_rate:\n",
    "            individual[i] = 1 - individual[i]  # Flip bit (0 ↔ 1)\n",
    "    return individual\n",
    "\n",
    "# Example Usage\n",
    "individual = [1, 0, 1, 1, 0, 1, 0, 1]\n",
    "mutated_individual = bit_flip_mutation(individual)\n",
    "print(\"Mutated Individual:\", mutated_individual)\n"
   ]
  },
  {
   "cell_type": "code",
   "execution_count": null,
   "metadata": {},
   "outputs": [],
   "source": [
    "#Example 2: Swap Mutation (For TSP & Route Optimization)\n",
    "# Used in: Traveling Salesman Problem (TSP), VRP\n",
    "\n",
    "def swap_mutation(individual):\n",
    "    idx1, idx2 = random.sample(range(len(individual)), 2)  # Select two positions\n",
    "    individual[idx1], individual[idx2] = individual[idx2], individual[idx1]  # Swap\n",
    "    return individual\n",
    "\n",
    "# Example Usage\n",
    "route = ['A', 'B', 'C', 'D', 'E']\n",
    "mutated_route = swap_mutation(route)\n",
    "print(\"Mutated Route:\", mutated_route)\n"
   ]
  }
 ],
 "metadata": {
  "language_info": {
   "name": "python"
  }
 },
 "nbformat": 4,
 "nbformat_minor": 2
}
