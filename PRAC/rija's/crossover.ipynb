{
 "cells": [
  {
   "cell_type": "code",
   "execution_count": null,
   "metadata": {},
   "outputs": [],
   "source": [
    "# basic snippet\n",
    "def fitness(individual):\n",
    "    return sum(individual)  # Count of 1s (OneMax Problem)\n",
    "\n",
    "def crossover(parent1, parent2):\n",
    "    point = random.randint(1, len(parent1) - 2)\n",
    "    return parent1[:point] + parent2[point:]\n"
   ]
  },
  {
   "cell_type": "code",
   "execution_count": null,
   "metadata": {},
   "outputs": [],
   "source": [
    "\"\"\"What is Crossover?\n",
    "Crossover is the process of combining two parent solutions to create a new child. It helps mix genetic material to find better solutions.\"\"\"\n",
    "\n",
    "# single point crossover:  Used in: OneMax Problem, Feature Selection, Basic GA problems\n",
    "import random\n",
    "\n",
    "def single_point_crossover(parent1, parent2):\n",
    "    point = random.randint(1, len(parent1) - 2)  # Select crossover point\n",
    "    child = parent1[:point] + parent2[point:]  # Combine parts from both parents\n",
    "    return child\n",
    "\n",
    "# Example Usage\n",
    "parent1 = [1, 0, 1, 1, 0, 1, 0, 1]\n",
    "parent2 = [0, 1, 0, 0, 1, 0, 1, 0]\n",
    "\n",
    "child = single_point_crossover(parent1, parent2)\n",
    "print(\"Child:\", child)\n"
   ]
  },
  {
   "cell_type": "code",
   "execution_count": null,
   "metadata": {},
   "outputs": [],
   "source": [
    "# Order Crossover ( TSP and ROute optimistaion) Traveling Salesman Problem (TSP), VRP\n",
    "def order_crossover(parent1, parent2):\n",
    "    start, end = sorted(random.sample(range(len(parent1)), 2))  # Select crossover range\n",
    "    child = [None] * len(parent1)  # Empty child\n",
    "\n",
    "    # Copy segment from parent1\n",
    "    child[start:end] = parent1[start:end]\n",
    "\n",
    "    # Fill remaining positions from parent2 in order\n",
    "    fill_values = [city for city in parent2 if city not in child]\n",
    "    fill_index = 0\n",
    "\n",
    "    for i in range(len(child)):\n",
    "        if child[i] is None:\n",
    "            child[i] = fill_values[fill_index]\n",
    "            fill_index += 1\n",
    "    \n",
    "    return child\n",
    "\n",
    "# Example Usage\n",
    "parent1 = ['A', 'B', 'C', 'D', 'E']\n",
    "parent2 = ['D', 'E', 'B', 'C', 'A']\n",
    "\n",
    "child = order_crossover(parent1, parent2)\n",
    "print(\"Child:\", child)\n",
    "\n"
   ]
  }
 ],
 "metadata": {
  "language_info": {
   "name": "python"
  }
 },
 "nbformat": 4,
 "nbformat_minor": 2
}
