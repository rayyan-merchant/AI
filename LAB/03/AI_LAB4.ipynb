{
  "nbformat": 4,
  "nbformat_minor": 0,
  "metadata": {
    "colab": {
      "provenance": []
    },
    "kernelspec": {
      "name": "python3",
      "display_name": "Python 3"
    },
    "language_info": {
      "name": "python"
    }
  },
  "cells": [
    {
      "cell_type": "markdown",
      "source": [
        "### Q1. Enhanced Maze Navigation with Multiple Goals\n",
        "● Description: Modify the given Best-First Search to find a path through a maze\n",
        "with multiple goal points. The algorithm should visit all goal points and return\n",
        "the shortest path covering all goals.\n",
        "\n",
        "● Challenge: The maze will have several dead ends and multiple goal points at\n",
        "different locations."
      ],
      "metadata": {
        "id": "iUqGapyx3kKR"
      }
    },
    {
      "cell_type": "code",
      "source": [
        "from queue import PriorityQueue\n",
        "\n",
        "class Node:\n",
        "    def __init__(self, position, parent=None, cost=0, goals_left=None):\n",
        "        self.position = position\n",
        "        self.parent = parent\n",
        "        self.cost = cost\n",
        "        self.goals_left = goals_left if goals_left else set()\n",
        "\n",
        "    def __lt__(self, other):\n",
        "        return self.cost < other.cost\n",
        "\n",
        "def heuristic(current_pos, goals_left):\n",
        "    if not goals_left:\n",
        "        return 0\n",
        "    return min(abs(current_pos[0] - g[0]) + abs(current_pos[1] - g[1]) for g in goals_left)\n",
        "\n",
        "def reconstruct_path(node):\n",
        "    path = []\n",
        "    while node:\n",
        "        path.append(node.position)\n",
        "        node = node.parent\n",
        "    return path[::-1]\n",
        "\n",
        "def best_first_search_multiple_goals(maze, start, goal_positions):\n",
        "    rows, cols = len(maze), len(maze[0])\n",
        "    start_node = Node(start, None, 0, set(goal_positions))\n",
        "    frontier = PriorityQueue()\n",
        "    frontier.put((0, start_node))\n",
        "    visited = set()\n",
        "\n",
        "    while not frontier.empty():\n",
        "        _, current_node = frontier.get()\n",
        "        current_pos = current_node.position\n",
        "        goals_left = current_node.goals_left.copy()\n",
        "\n",
        "        if current_pos in goals_left:\n",
        "            goals_left.remove(current_pos)\n",
        "\n",
        "        if not goals_left:\n",
        "            return reconstruct_path(current_node)\n",
        "\n",
        "        visited.add((current_pos, frozenset(goals_left)))\n",
        "\n",
        "        for dx, dy in [(1, 0), (-1, 0), (0, 1), (0, -1)]:\n",
        "            new_pos = (current_pos[0] + dx, current_pos[1] + dy)\n",
        "\n",
        "            if (0 <= new_pos[0] < rows and 0 <= new_pos[1] < cols and\n",
        "                maze[new_pos[0]][new_pos[1]] == 0):\n",
        "\n",
        "                new_node = Node(new_pos, current_node, current_node.cost + 1, goals_left)\n",
        "\n",
        "                if (new_pos, frozenset(goals_left)) not in visited:\n",
        "                    frontier.put((heuristic(new_pos, goals_left) + new_node.cost, new_node))\n",
        "\n",
        "    return None\n",
        "\n",
        "maze = [\n",
        "    [0, 0, 1, 0, 0],\n",
        "    [0, 1, 0, 0, 0],\n",
        "    [0, 0, 1, 0, 1],\n",
        "    [0, 0, 1, 0, 0],\n",
        "    [0, 0, 0, 1, 0]\n",
        "]\n",
        "\n",
        "start = (0, 0)\n",
        "goal_positions = [(4, 4), (2, 3)]\n",
        "\n",
        "path = best_first_search_multiple_goals(maze, start, goal_positions)\n",
        "if path:\n",
        "    print(\"Shortest Path covering all goals:\", path)\n",
        "else:\n",
        "    print(\"No path found\")\n"
      ],
      "metadata": {
        "id": "BJWLLpKx3obk",
        "colab": {
          "base_uri": "https://localhost:8080/"
        },
        "outputId": "edeab0f6-5492-43a7-efbd-34eeb40dd151"
      },
      "execution_count": null,
      "outputs": [
        {
          "output_type": "stream",
          "name": "stdout",
          "text": [
            "No path found\n"
          ]
        }
      ]
    },
    {
      "cell_type": "markdown",
      "source": [
        "### Q2. Implement an A* Search where the edge costs change dynamically at random intervals.\n",
        "The algorithm should adapt to these changes and always find the\n",
        "optimal path. Recompute and adjust paths in real time without restarting the\n",
        "algorithm from scratch."
      ],
      "metadata": {
        "id": "KrECkMCqW63q"
      }
    },
    {
      "cell_type": "code",
      "source": [
        "from queue import PriorityQueue\n",
        "import random\n",
        "\n",
        "def heuristic(a, b):\n",
        "    return abs(a[0] - b[0]) + abs(a[1] - b[1])\n",
        "\n",
        "def dynamic_a_star(maze, start, goals):\n",
        "    rows, cols = len(maze), len(maze[0])\n",
        "    frontier = PriorityQueue()\n",
        "    frontier.put((0, start, []))\n",
        "    visited = set()\n",
        "    costs = {start: 0}\n",
        "    completed_goals = set()\n",
        "    full_path = []\n",
        "\n",
        "    while not frontier.empty():\n",
        "        curr_cost, curr_pos, curr_path = frontier.get()\n",
        "\n",
        "        if curr_pos in visited:\n",
        "            continue\n",
        "\n",
        "        visited.add(curr_pos)\n",
        "        curr_path.append(curr_pos)\n",
        "\n",
        "        if curr_pos in goals:\n",
        "            completed_goals.add(curr_pos)\n",
        "            full_path.extend(curr_path)\n",
        "            if completed_goals == goals:\n",
        "                return full_path\n",
        "            curr_path = [curr_pos]\n",
        "\n",
        "        for dx, dy in [(1,0), (-1,0), (0,1), (0,-1)]:\n",
        "            new_pos = (curr_pos[0] + dx, curr_pos[1] + dy)\n",
        "            if 0 <= new_pos[0] < rows and 0 <= new_pos[1] < cols and maze[new_pos[0]][new_pos[1]] == 0:\n",
        "                new_cost = curr_cost + random.randint(1, 10)\n",
        "                if new_pos not in costs or new_cost < costs[new_pos]:\n",
        "                    costs[new_pos] = new_cost\n",
        "                    remaining_goals = goals - completed_goals\n",
        "                    if remaining_goals:\n",
        "                        priority = new_cost + min(heuristic(new_pos, goal) for goal in remaining_goals)\n",
        "                    else:\n",
        "                        priority = new_cost\n",
        "                    frontier.put((priority, new_pos, curr_path.copy()))\n",
        "\n",
        "    return \"No path to all goals\"\n",
        "\n",
        "maze = [\n",
        "    [0, 0, 1, 0, 0],\n",
        "    [0, 1, 0, 1, 0],\n",
        "    [0, 0, 0, 0, 1],\n",
        "    [1, 0, 1, 0, 0],\n",
        "    [0, 0, 0, 1, 0]\n",
        "]\n",
        "\n",
        "start = (0, 0)\n",
        "goals = {(4, 4), (0, 3), (3, 1)}\n",
        "\n",
        "path_dynamic_astar = dynamic_a_star(maze, start, goals)\n",
        "\n",
        "print(\"\\nDynamic A* Optimized Path\")\n",
        "if isinstance(path_dynamic_astar, list):\n",
        "    for step in path_dynamic_astar:\n",
        "        print(f\"→ {step}\")\n",
        "else:\n",
        "    print(path_dynamic_astar)\n"
      ],
      "metadata": {
        "colab": {
          "base_uri": "https://localhost:8080/"
        },
        "id": "q4HEKjZ3XDZY",
        "outputId": "007484dd-dad6-4fe4-d8c0-f5142e171a29"
      },
      "execution_count": 5,
      "outputs": [
        {
          "output_type": "stream",
          "name": "stdout",
          "text": [
            "\n",
            "Dynamic A* Optimized Path\n",
            "No path to all goals\n"
          ]
        }
      ]
    },
    {
      "cell_type": "markdown",
      "source": [
        "### Q3. Delivery Route Optimization with Time Windows\n",
        "● **Description**: Using the Greedy Best-First Search, optimize delivery routes for a set of delivery points. Each delivery point has a specific time window for delivery,\n",
        "and the algorithm must prioritize those with stricter deadlines.\n",
        "\n",
        "● **Challenge:** Ensure that the algorithm handles time constraints efficiently while\n",
        "minimizing total travel distance."
      ],
      "metadata": {
        "id": "2ea7DlJnXDww"
      }
    },
    {
      "cell_type": "code",
      "source": [
        "from queue import PriorityQueue\n",
        "\n",
        "def greedy_best_first_delivery(graph, start, deliveries):\n",
        "    pq = PriorityQueue()\n",
        "    pq.put((0, start, []))\n",
        "    visited = set()\n",
        "    completed_deliveries = set()\n",
        "    optimized_path = []\n",
        "\n",
        "    while not pq.empty():\n",
        "        cost, curr, curr_path = pq.get()\n",
        "\n",
        "        if curr in visited:\n",
        "            continue\n",
        "        visited.add(curr)\n",
        "\n",
        "        curr_path.append(curr)\n",
        "\n",
        "        if curr in deliveries:\n",
        "            completed_deliveries.add(curr)\n",
        "            optimized_path.extend(curr_path)\n",
        "            curr_path = []\n",
        "\n",
        "        if completed_deliveries == deliveries:\n",
        "            return optimized_path\n",
        "\n",
        "        for neighbor, travel_cost in graph.get(curr, []):\n",
        "            if neighbor not in visited:\n",
        "                pq.put((travel_cost, neighbor, curr_path.copy()))\n",
        "\n",
        "    return \"Not all deliveries are possible.\"\n",
        "\n",
        "delivery_graph = {\n",
        "    'A': [('B', 3), ('C', 5)],\n",
        "    'B': [('D', 2), ('E', 4)],\n",
        "    'C': [('E', 1), ('F', 7)],\n",
        "    'D': [('G', 6)],\n",
        "    'E': [('G', 3)],\n",
        "    'F': [('G', 2)],\n",
        "    'G': []\n",
        "}\n",
        "\n",
        "start_location = 'A'\n",
        "delivery_points = {'D', 'E', 'G'}\n",
        "\n",
        "delivery_path = greedy_best_first_delivery(delivery_graph, start_location, delivery_points)\n",
        "\n",
        "print(\"Optimized Delivery Route:\", delivery_path)\n"
      ],
      "metadata": {
        "id": "ml69h_4rXL7-",
        "colab": {
          "base_uri": "https://localhost:8080/"
        },
        "outputId": "81d5a50f-51bd-4ce1-cfde-83373f815d07"
      },
      "execution_count": 1,
      "outputs": [
        {
          "output_type": "stream",
          "name": "stdout",
          "text": [
            "Optimized Delivery Route: ['A', 'B', 'D', 'A', 'B', 'E', 'G']\n"
          ]
        }
      ]
    }
  ]
}